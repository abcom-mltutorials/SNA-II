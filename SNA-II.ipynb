{
  "nbformat": 4,
  "nbformat_minor": 0,
  "metadata": {
    "colab": {
      "name": "SNA-II.ipynb",
      "provenance": [],
      "collapsed_sections": []
    },
    "kernelspec": {
      "display_name": "Python 3",
      "name": "python3"
    }
  },
  "cells": [
    {
      "cell_type": "markdown",
      "metadata": {
        "id": "zCYT-aXcThxC"
      },
      "source": [
        "# Link Prediction using Node2Vec"
      ]
    },
    {
      "cell_type": "markdown",
      "metadata": {
        "id": "4mc1QYblKDB-"
      },
      "source": [
        "Copyright @ 2020 **ABCOM Information Systems Pvt. Ltd.** \n",
        "All Rights Reserved.\n",
        "\n",
        "Licensed under the Apache License, Version 2.0 (the \"License\"); you may not use this file except in compliance with the License. You may obtain a copy of the License at\n",
        "\n",
        "http://www.apache.org/licenses/LICENSE-2.0\n",
        "\n",
        "Unless required by applicable law or agreed to in writing, software distributed under the License is distributed on an \"AS IS\" BASIS, WITHOUT WARRANTIES OR CONDITIONS OF ANY KIND, either express or implied.\n",
        "\n",
        "See the License for the specific language governing permissions and limitations under the License."
      ]
    },
    {
      "cell_type": "markdown",
      "metadata": {
        "id": "X1WhEqYP7HHr"
      },
      "source": [
        "# Pre-requisite"
      ]
    },
    {
      "cell_type": "markdown",
      "metadata": {
        "id": "uWCjFK-0CnqV"
      },
      "source": [
        "Continuation of the previous project - [An In-depth Guide to Social Network Analysis](http://education.abcom.com/an-in-depth-guide-to-social-network-analysis/)\n"
      ]
    },
    {
      "cell_type": "markdown",
      "metadata": {
        "id": "5JpCimaGEdIO"
      },
      "source": [
        "# Project"
      ]
    },
    {
      "cell_type": "markdown",
      "metadata": {
        "id": "Pzlu6LGnMZkM"
      },
      "source": [
        "## Importing required libraries"
      ]
    },
    {
      "cell_type": "code",
      "metadata": {
        "id": "RsTT-Y8wMdt3"
      },
      "source": [
        "import random\n",
        "from tqdm import tqdm\n",
        "import networkx as nx\n",
        "from zipfile import ZipFile\n",
        "import pandas as pd\n",
        "import numpy as np\n",
        "import matplotlib.pyplot as plt\n",
        "%matplotlib inline\n",
        "from warnings import simplefilter\n",
        "from sklearn.exceptions import ConvergenceWarning\n",
        "simplefilter(\"ignore\", category=ConvergenceWarning)"
      ],
      "execution_count": null,
      "outputs": []
    },
    {
      "cell_type": "markdown",
      "metadata": {
        "id": "B5ZG-hNWMigq"
      },
      "source": [
        "## Download output files created in part-1"
      ]
    },
    {
      "cell_type": "code",
      "metadata": {
        "id": "-VP8wO2gMy4q",
        "outputId": "6516a94b-5bfa-45fc-980c-472e7d6e7dd8",
        "colab": {
          "base_uri": "https://localhost:8080/",
          "height": 309
        }
      },
      "source": [
        "!wget https://github.com/abcom-mltutorials/Facebook-Social-Network-Analysis/archive/master.zip -P \"/content\"\n",
        "ZipFile(\"/content/master.zip\").extractall(\"/content/\")"
      ],
      "execution_count": null,
      "outputs": [
        {
          "output_type": "stream",
          "text": [
            "--2020-10-25 12:35:39--  https://github.com/ArkDy1312/Facebook-Social-Network-Analysis-Project/archive/master.zip\n",
            "Resolving github.com (github.com)... 13.114.40.48\n",
            "Connecting to github.com (github.com)|13.114.40.48|:443... connected.\n",
            "HTTP request sent, awaiting response... 302 Found\n",
            "Location: https://codeload.github.com/ArkDy1312/Facebook-Social-Network-Analysis-Project/zip/master [following]\n",
            "--2020-10-25 12:35:40--  https://codeload.github.com/ArkDy1312/Facebook-Social-Network-Analysis-Project/zip/master\n",
            "Resolving codeload.github.com (codeload.github.com)... 52.193.111.178\n",
            "Connecting to codeload.github.com (codeload.github.com)|52.193.111.178|:443... connected.\n",
            "HTTP request sent, awaiting response... 200 OK\n",
            "Length: unspecified [application/zip]\n",
            "Saving to: ‘/content/master.zip.1’\n",
            "\n",
            "master.zip.1            [   <=>              ]   1.35M  3.17MB/s    in 0.4s    \n",
            "\n",
            "2020-10-25 12:35:40 (3.17 MB/s) - ‘/content/master.zip.1’ saved [1417240]\n",
            "\n"
          ],
          "name": "stdout"
        }
      ]
    },
    {
      "cell_type": "markdown",
      "metadata": {
        "id": "IW38tPYOQhwE"
      },
      "source": [
        "Retrieve the graph and 'fb' dataframe"
      ]
    },
    {
      "cell_type": "code",
      "metadata": {
        "id": "3JASDwIUQrzb"
      },
      "source": [
        "# We had generated these two files in part-1\n",
        "\n",
        "# graph\n",
        "G = nx.read_gpickle('/content/Facebook-Social-Network-Analysis-Project-master/Graph.pickle')\n",
        "# fb dataframe\n",
        "fb = pd.read_csv('/content/Facebook-Social-Network-Analysis-Project-master/fb.csv', index_col=[0])"
      ],
      "execution_count": null,
      "outputs": []
    },
    {
      "cell_type": "code",
      "metadata": {
        "id": "MSNKuWokA7XJ",
        "outputId": "e81b7b73-bfff-4e42-837f-71daaf79d433",
        "colab": {
          "base_uri": "https://localhost:8080/",
          "height": 102
        }
      },
      "source": [
        "print(nx.info(G))"
      ],
      "execution_count": null,
      "outputs": [
        {
          "output_type": "stream",
          "text": [
            "Name: Facebook SNA Graph\n",
            "Type: Graph\n",
            "Number of nodes: 1295\n",
            "Number of edges: 18321\n",
            "Average degree:  28.2950\n"
          ],
          "name": "stdout"
        }
      ]
    },
    {
      "cell_type": "code",
      "metadata": {
        "id": "b6cw2TOFBsG2",
        "outputId": "b6ad375c-697c-43aa-b89d-e2ac137b2bc8",
        "colab": {
          "base_uri": "https://localhost:8080/",
          "height": 419
        }
      },
      "source": [
        "fb"
      ],
      "execution_count": null,
      "outputs": [
        {
          "output_type": "execute_result",
          "data": {
            "text/html": [
              "<div>\n",
              "<style scoped>\n",
              "    .dataframe tbody tr th:only-of-type {\n",
              "        vertical-align: middle;\n",
              "    }\n",
              "\n",
              "    .dataframe tbody tr th {\n",
              "        vertical-align: top;\n",
              "    }\n",
              "\n",
              "    .dataframe thead th {\n",
              "        text-align: right;\n",
              "    }\n",
              "</style>\n",
              "<table border=\"1\" class=\"dataframe\">\n",
              "  <thead>\n",
              "    <tr style=\"text-align: right;\">\n",
              "      <th></th>\n",
              "      <th>Node 1</th>\n",
              "      <th>Node 2</th>\n",
              "    </tr>\n",
              "  </thead>\n",
              "  <tbody>\n",
              "    <tr>\n",
              "      <th>0</th>\n",
              "      <td>2</td>\n",
              "      <td>116</td>\n",
              "    </tr>\n",
              "    <tr>\n",
              "      <th>1</th>\n",
              "      <td>2</td>\n",
              "      <td>226</td>\n",
              "    </tr>\n",
              "    <tr>\n",
              "      <th>2</th>\n",
              "      <td>2</td>\n",
              "      <td>326</td>\n",
              "    </tr>\n",
              "    <tr>\n",
              "      <th>3</th>\n",
              "      <td>3</td>\n",
              "      <td>25</td>\n",
              "    </tr>\n",
              "    <tr>\n",
              "      <th>4</th>\n",
              "      <td>3</td>\n",
              "      <td>67</td>\n",
              "    </tr>\n",
              "    <tr>\n",
              "      <th>...</th>\n",
              "      <td>...</td>\n",
              "      <td>...</td>\n",
              "    </tr>\n",
              "    <tr>\n",
              "      <th>18316</th>\n",
              "      <td>3926</td>\n",
              "      <td>3938</td>\n",
              "    </tr>\n",
              "    <tr>\n",
              "      <th>18317</th>\n",
              "      <td>3926</td>\n",
              "      <td>3966</td>\n",
              "    </tr>\n",
              "    <tr>\n",
              "      <th>18318</th>\n",
              "      <td>3930</td>\n",
              "      <td>3938</td>\n",
              "    </tr>\n",
              "    <tr>\n",
              "      <th>18319</th>\n",
              "      <td>3938</td>\n",
              "      <td>3966</td>\n",
              "    </tr>\n",
              "    <tr>\n",
              "      <th>18320</th>\n",
              "      <td>3950</td>\n",
              "      <td>3979</td>\n",
              "    </tr>\n",
              "  </tbody>\n",
              "</table>\n",
              "<p>18321 rows × 2 columns</p>\n",
              "</div>"
            ],
            "text/plain": [
              "       Node 1  Node 2\n",
              "0           2     116\n",
              "1           2     226\n",
              "2           2     326\n",
              "3           3      25\n",
              "4           3      67\n",
              "...       ...     ...\n",
              "18316    3926    3938\n",
              "18317    3926    3966\n",
              "18318    3930    3938\n",
              "18319    3938    3966\n",
              "18320    3950    3979\n",
              "\n",
              "[18321 rows x 2 columns]"
            ]
          },
          "metadata": {
            "tags": []
          },
          "execution_count": 5
        }
      ]
    },
    {
      "cell_type": "markdown",
      "metadata": {
        "id": "8gHVO5OTM2eK"
      },
      "source": [
        "## Data rocessing"
      ]
    },
    {
      "cell_type": "markdown",
      "metadata": {
        "id": "neocBRHy_3t2"
      },
      "source": [
        "Create an adjacency matrix"
      ]
    },
    {
      "cell_type": "code",
      "metadata": {
        "id": "g9cpdu-bTbcK",
        "outputId": "f514f0db-a6a5-4d6c-9528-e47c44f8f83e",
        "colab": {
          "base_uri": "https://localhost:8080/",
          "height": 170
        }
      },
      "source": [
        "# get a list of nodes in our graph\n",
        "l = list(G.nodes())\n",
        "\n",
        "# create adjacency matrix\n",
        "adj_G = nx.to_numpy_matrix(G, nodelist = l)\n",
        "\n",
        "print(str(adj_G.shape)+'\\n')\n",
        "adj_G"
      ],
      "execution_count": null,
      "outputs": [
        {
          "output_type": "stream",
          "text": [
            "(1295, 1295)\n",
            "\n"
          ],
          "name": "stdout"
        },
        {
          "output_type": "execute_result",
          "data": {
            "text/plain": [
              "matrix([[0., 0., 0., ..., 0., 0., 0.],\n",
              "        [0., 0., 0., ..., 0., 0., 0.],\n",
              "        [0., 0., 0., ..., 0., 0., 0.],\n",
              "        ...,\n",
              "        [0., 0., 0., ..., 0., 0., 0.],\n",
              "        [0., 0., 0., ..., 0., 0., 0.],\n",
              "        [0., 0., 0., ..., 0., 0., 0.]])"
            ]
          },
          "metadata": {
            "tags": []
          },
          "execution_count": 6
        }
      ]
    },
    {
      "cell_type": "markdown",
      "metadata": {
        "id": "VX-NzsmyBO7y"
      },
      "source": [
        "Get non-existing edges/node-pairs from the adjacency matrix"
      ]
    },
    {
      "cell_type": "code",
      "metadata": {
        "id": "2o_tvPFaBFfM",
        "outputId": "aecb0471-e345-4974-e8e1-bcf7c1eb7da2",
        "colab": {
          "base_uri": "https://localhost:8080/",
          "height": 34
        }
      },
      "source": [
        "\n",
        "# get all node pairs which don't have an edge\n",
        "non_existing_edges = []\n",
        "\n",
        "# traverse adjacency matrix \n",
        "offset = 0\n",
        "for i in tqdm(range(adj_G.shape[0])):\n",
        "    for j in range(offset,adj_G.shape[1]):\n",
        "        if i != j:\n",
        "            if adj_G[i,j] == 0:\n",
        "                    non_existing_edges.extend([(l[i],l[j])])\n",
        "\n",
        "    offset = offset + 1"
      ],
      "execution_count": null,
      "outputs": [
        {
          "output_type": "stream",
          "text": [
            "100%|██████████| 1295/1295 [00:01<00:00, 900.52it/s] \n"
          ],
          "name": "stderr"
        }
      ]
    },
    {
      "cell_type": "code",
      "metadata": {
        "id": "w1uICmqjEnm1",
        "outputId": "6e1c6c0d-e317-4fd9-9e94-902878653915",
        "colab": {
          "base_uri": "https://localhost:8080/",
          "height": 34
        }
      },
      "source": [
        "# print few non_existing edges\n",
        "non_existing_edges[:5]"
      ],
      "execution_count": null,
      "outputs": [
        {
          "output_type": "execute_result",
          "data": {
            "text/plain": [
              "[(2, 3), (2, 7), (2, 10), (2, 13), (2, 16)]"
            ]
          },
          "metadata": {
            "tags": []
          },
          "execution_count": 8
        }
      ]
    },
    {
      "cell_type": "markdown",
      "metadata": {
        "id": "68Dl-A3sUClB"
      },
      "source": [
        "Select partial set of non-existing edges for balancing dataset "
      ]
    },
    {
      "cell_type": "code",
      "metadata": {
        "id": "nEUxdPVXYDf8",
        "outputId": "a56de24f-c34e-4092-ff82-c172e8b93aec",
        "colab": {
          "base_uri": "https://localhost:8080/",
          "height": 34
        }
      },
      "source": [
        "len(non_existing_edges)"
      ],
      "execution_count": null,
      "outputs": [
        {
          "output_type": "execute_result",
          "data": {
            "text/plain": [
              "819544"
            ]
          },
          "metadata": {
            "tags": []
          },
          "execution_count": 9
        }
      ]
    },
    {
      "cell_type": "code",
      "metadata": {
        "id": "LulXLy1wUEBG"
      },
      "source": [
        "# Ramdomly select 4000 non-existing edges\n",
        "nodes_4000 = sorted(random.sample(non_existing_edges, k=40000))"
      ],
      "execution_count": null,
      "outputs": []
    },
    {
      "cell_type": "markdown",
      "metadata": {
        "id": "6lDj_XU_Fj7X"
      },
      "source": [
        "Find the node pairs having a path between them"
      ]
    },
    {
      "cell_type": "code",
      "metadata": {
        "id": "TG86WB7KEzZR",
        "outputId": "47d8fff9-2a60-4c1f-ba9c-11ecf550989e",
        "colab": {
          "base_uri": "https://localhost:8080/",
          "height": 34
        }
      },
      "source": [
        "non_existing_edges = [(i[0],i[1]) for i in tqdm(nodes_4000) if nx.has_path(G, i[0], i[1])]"
      ],
      "execution_count": null,
      "outputs": [
        {
          "output_type": "stream",
          "text": [
            "100%|██████████| 40000/40000 [00:25<00:00, 1564.09it/s]\n"
          ],
          "name": "stderr"
        }
      ]
    },
    {
      "cell_type": "code",
      "metadata": {
        "id": "5CdVRCTk9DTH",
        "outputId": "622bd9bd-7ba6-43b2-e656-1a12b7961e59",
        "colab": {
          "base_uri": "https://localhost:8080/",
          "height": 34
        }
      },
      "source": [
        "non_existing_edges[:5]"
      ],
      "execution_count": null,
      "outputs": [
        {
          "output_type": "execute_result",
          "data": {
            "text/plain": [
              "[(2, 7), (2, 25), (2, 55), (2, 119), (2, 146)]"
            ]
          },
          "metadata": {
            "tags": []
          },
          "execution_count": 12
        }
      ]
    },
    {
      "cell_type": "markdown",
      "metadata": {
        "id": "R4h8ZymsUFuS"
      },
      "source": [
        "Create a dataframe of the node pairs in 'non_existing_edges'\n"
      ]
    },
    {
      "cell_type": "code",
      "metadata": {
        "id": "e9cr5xY2UHYh",
        "outputId": "7382c310-31b8-4833-bfbb-6b7446c1c3bb",
        "colab": {
          "base_uri": "https://localhost:8080/",
          "height": 204
        }
      },
      "source": [
        "df1 = pd.DataFrame(data = non_existing_edges, columns =['Node 1', 'Node 2'])\n",
        "\n",
        "# create a column 'Connection' with default 0 (no-connection)\n",
        "df1['Connection'] = 0\n",
        "\n",
        "df1.head()"
      ],
      "execution_count": null,
      "outputs": [
        {
          "output_type": "execute_result",
          "data": {
            "text/html": [
              "<div>\n",
              "<style scoped>\n",
              "    .dataframe tbody tr th:only-of-type {\n",
              "        vertical-align: middle;\n",
              "    }\n",
              "\n",
              "    .dataframe tbody tr th {\n",
              "        vertical-align: top;\n",
              "    }\n",
              "\n",
              "    .dataframe thead th {\n",
              "        text-align: right;\n",
              "    }\n",
              "</style>\n",
              "<table border=\"1\" class=\"dataframe\">\n",
              "  <thead>\n",
              "    <tr style=\"text-align: right;\">\n",
              "      <th></th>\n",
              "      <th>Node 1</th>\n",
              "      <th>Node 2</th>\n",
              "      <th>Connection</th>\n",
              "    </tr>\n",
              "  </thead>\n",
              "  <tbody>\n",
              "    <tr>\n",
              "      <th>0</th>\n",
              "      <td>2</td>\n",
              "      <td>7</td>\n",
              "      <td>0</td>\n",
              "    </tr>\n",
              "    <tr>\n",
              "      <th>1</th>\n",
              "      <td>2</td>\n",
              "      <td>25</td>\n",
              "      <td>0</td>\n",
              "    </tr>\n",
              "    <tr>\n",
              "      <th>2</th>\n",
              "      <td>2</td>\n",
              "      <td>55</td>\n",
              "      <td>0</td>\n",
              "    </tr>\n",
              "    <tr>\n",
              "      <th>3</th>\n",
              "      <td>2</td>\n",
              "      <td>119</td>\n",
              "      <td>0</td>\n",
              "    </tr>\n",
              "    <tr>\n",
              "      <th>4</th>\n",
              "      <td>2</td>\n",
              "      <td>146</td>\n",
              "      <td>0</td>\n",
              "    </tr>\n",
              "  </tbody>\n",
              "</table>\n",
              "</div>"
            ],
            "text/plain": [
              "   Node 1  Node 2  Connection\n",
              "0       2       7           0\n",
              "1       2      25           0\n",
              "2       2      55           0\n",
              "3       2     119           0\n",
              "4       2     146           0"
            ]
          },
          "metadata": {
            "tags": []
          },
          "execution_count": 13
        }
      ]
    },
    {
      "cell_type": "markdown",
      "metadata": {
        "id": "Id95salGT1fP"
      },
      "source": [
        "Getting the removable edges"
      ]
    },
    {
      "cell_type": "code",
      "metadata": {
        "id": "Ozh6ELRMUJ3S",
        "outputId": "30ab44e9-2154-474a-ab55-e4c061a04f4a",
        "colab": {
          "base_uri": "https://localhost:8080/",
          "height": 34
        }
      },
      "source": [
        "# Create a list of all indices of the node pairs in the fb dataframe, \n",
        "# which when removed won’t change the structure of our graph\n",
        "\n",
        "# create a copy\n",
        "fb_temp = fb.copy()\n",
        "\n",
        "# for storing removable edges\n",
        "removable_edges_indices = []\n",
        "\n",
        "# number of connected components and nodes of G\n",
        "ncc = nx.number_connected_components(G)\n",
        "number_of_nodes = len(G.nodes)\n",
        "\n",
        "# for each node pair we will be removing a node pair and creating a new graph, \n",
        "# and check if the number of connected components and the number of nodes \n",
        "# are the same as the original graph\n",
        "for i in tqdm(fb.index.values):\n",
        "    \n",
        "       # remove a node pair and build a new graph\n",
        "    G1 = nx.from_pandas_edgelist(fb_temp.drop(index= i), \"Node 1\", \"Node 2\", \n",
        "                                 create_using=nx.Graph())\n",
        "    \n",
        "       # If the number of connected components remain same as the original\n",
        "       # graph we won't remove the edge\n",
        "    if (nx.number_connected_components(G1) == ncc) and (len(G1.nodes) == number_of_nodes):\n",
        "        removable_edges_indices.append(i)\n",
        "\n",
        "        # drop the edge, so that for the next iteration the next G1 \n",
        "        # is created without this edge \n",
        "        fb_temp = fb_temp.drop(index = i)\n"
      ],
      "execution_count": null,
      "outputs": [
        {
          "output_type": "stream",
          "text": [
            "100%|██████████| 18321/18321 [07:30<00:00, 40.68it/s] \n"
          ],
          "name": "stderr"
        }
      ]
    },
    {
      "cell_type": "code",
      "metadata": {
        "id": "LRuL1S7lVvt0",
        "outputId": "a09f4b2f-c52a-4b2f-ffb1-c452bd2c0b99",
        "colab": {
          "base_uri": "https://localhost:8080/",
          "height": 34
        }
      },
      "source": [
        "# print few items\n",
        "removable_edges_indices[:5]"
      ],
      "execution_count": null,
      "outputs": [
        {
          "output_type": "execute_result",
          "data": {
            "text/plain": [
              "[0, 1, 3, 4, 5]"
            ]
          },
          "metadata": {
            "tags": []
          },
          "execution_count": 15
        }
      ]
    },
    {
      "cell_type": "markdown",
      "metadata": {
        "id": "_JRv0ywqUMYy"
      },
      "source": [
        "Create a dataframe with all the removable edges"
      ]
    },
    {
      "cell_type": "code",
      "metadata": {
        "id": "iu5YH5wIUOWh",
        "outputId": "77824df0-9562-4663-e3cf-16f8619c2832",
        "colab": {
          "base_uri": "https://localhost:8080/",
          "height": 204
        }
      },
      "source": [
        "# get node pairs in fb dataframe with indices in removable_edges_indices\n",
        "df2 = fb.loc[removable_edges_indices]\n",
        "\n",
        "# create a column 'Connection' and assign default value of 1 (connected nodes)\n",
        "df2['Connection'] = 1\n",
        "\n",
        "df2.head()"
      ],
      "execution_count": null,
      "outputs": [
        {
          "output_type": "execute_result",
          "data": {
            "text/html": [
              "<div>\n",
              "<style scoped>\n",
              "    .dataframe tbody tr th:only-of-type {\n",
              "        vertical-align: middle;\n",
              "    }\n",
              "\n",
              "    .dataframe tbody tr th {\n",
              "        vertical-align: top;\n",
              "    }\n",
              "\n",
              "    .dataframe thead th {\n",
              "        text-align: right;\n",
              "    }\n",
              "</style>\n",
              "<table border=\"1\" class=\"dataframe\">\n",
              "  <thead>\n",
              "    <tr style=\"text-align: right;\">\n",
              "      <th></th>\n",
              "      <th>Node 1</th>\n",
              "      <th>Node 2</th>\n",
              "      <th>Connection</th>\n",
              "    </tr>\n",
              "  </thead>\n",
              "  <tbody>\n",
              "    <tr>\n",
              "      <th>0</th>\n",
              "      <td>2</td>\n",
              "      <td>116</td>\n",
              "      <td>1</td>\n",
              "    </tr>\n",
              "    <tr>\n",
              "      <th>1</th>\n",
              "      <td>2</td>\n",
              "      <td>226</td>\n",
              "      <td>1</td>\n",
              "    </tr>\n",
              "    <tr>\n",
              "      <th>3</th>\n",
              "      <td>3</td>\n",
              "      <td>25</td>\n",
              "      <td>1</td>\n",
              "    </tr>\n",
              "    <tr>\n",
              "      <th>4</th>\n",
              "      <td>3</td>\n",
              "      <td>67</td>\n",
              "      <td>1</td>\n",
              "    </tr>\n",
              "    <tr>\n",
              "      <th>5</th>\n",
              "      <td>3</td>\n",
              "      <td>142</td>\n",
              "      <td>1</td>\n",
              "    </tr>\n",
              "  </tbody>\n",
              "</table>\n",
              "</div>"
            ],
            "text/plain": [
              "   Node 1  Node 2  Connection\n",
              "0       2     116           1\n",
              "1       2     226           1\n",
              "3       3      25           1\n",
              "4       3      67           1\n",
              "5       3     142           1"
            ]
          },
          "metadata": {
            "tags": []
          },
          "execution_count": 16
        }
      ]
    },
    {
      "cell_type": "markdown",
      "metadata": {
        "id": "KoDGajepYXRs"
      },
      "source": [
        "Combining df2 (removable edges) and df1 (non_existing edges) "
      ]
    },
    {
      "cell_type": "code",
      "metadata": {
        "id": "050ZwlhQYQQn",
        "outputId": "c9bce61d-942f-45c7-aaba-ebd67762813c",
        "colab": {
          "base_uri": "https://localhost:8080/",
          "height": 204
        }
      },
      "source": [
        "df1 = df1.append(df2[['Node 1', 'Node 2', 'Connection']], \n",
        "                 ignore_index=True)\n",
        "df1.head()"
      ],
      "execution_count": null,
      "outputs": [
        {
          "output_type": "execute_result",
          "data": {
            "text/html": [
              "<div>\n",
              "<style scoped>\n",
              "    .dataframe tbody tr th:only-of-type {\n",
              "        vertical-align: middle;\n",
              "    }\n",
              "\n",
              "    .dataframe tbody tr th {\n",
              "        vertical-align: top;\n",
              "    }\n",
              "\n",
              "    .dataframe thead th {\n",
              "        text-align: right;\n",
              "    }\n",
              "</style>\n",
              "<table border=\"1\" class=\"dataframe\">\n",
              "  <thead>\n",
              "    <tr style=\"text-align: right;\">\n",
              "      <th></th>\n",
              "      <th>Node 1</th>\n",
              "      <th>Node 2</th>\n",
              "      <th>Connection</th>\n",
              "    </tr>\n",
              "  </thead>\n",
              "  <tbody>\n",
              "    <tr>\n",
              "      <th>0</th>\n",
              "      <td>2</td>\n",
              "      <td>7</td>\n",
              "      <td>0</td>\n",
              "    </tr>\n",
              "    <tr>\n",
              "      <th>1</th>\n",
              "      <td>2</td>\n",
              "      <td>25</td>\n",
              "      <td>0</td>\n",
              "    </tr>\n",
              "    <tr>\n",
              "      <th>2</th>\n",
              "      <td>2</td>\n",
              "      <td>55</td>\n",
              "      <td>0</td>\n",
              "    </tr>\n",
              "    <tr>\n",
              "      <th>3</th>\n",
              "      <td>2</td>\n",
              "      <td>119</td>\n",
              "      <td>0</td>\n",
              "    </tr>\n",
              "    <tr>\n",
              "      <th>4</th>\n",
              "      <td>2</td>\n",
              "      <td>146</td>\n",
              "      <td>0</td>\n",
              "    </tr>\n",
              "  </tbody>\n",
              "</table>\n",
              "</div>"
            ],
            "text/plain": [
              "   Node 1  Node 2  Connection\n",
              "0       2       7           0\n",
              "1       2      25           0\n",
              "2       2      55           0\n",
              "3       2     119           0\n",
              "4       2     146           0"
            ]
          },
          "metadata": {
            "tags": []
          },
          "execution_count": 17
        }
      ]
    },
    {
      "cell_type": "markdown",
      "metadata": {
        "id": "54paiCmmUP1K"
      },
      "source": [
        "Create subset of fb"
      ]
    },
    {
      "cell_type": "code",
      "metadata": {
        "id": "RFAWshbwURrx",
        "outputId": "6752e5c3-004a-4400-c429-5c5cd4891a52",
        "colab": {
          "base_uri": "https://localhost:8080/",
          "height": 204
        }
      },
      "source": [
        "df3 = fb.drop(index=df2.index.values)\n",
        "\n",
        "# we can assume that at a previous point of time node pairs \n",
        "# in 'df3' were the only node pairs with an edge between them, \n",
        "# such that in the future, node pairs in 'df1' with \n",
        "# 'Connection' = 1 will have a new edge\n",
        "# while node pairs in 'df1' with 'Connection' = 0 \n",
        "# means the node pairs don't have an edge between them \n",
        "# in our assumed future\n",
        "\n",
        "df3.head()"
      ],
      "execution_count": null,
      "outputs": [
        {
          "output_type": "execute_result",
          "data": {
            "text/html": [
              "<div>\n",
              "<style scoped>\n",
              "    .dataframe tbody tr th:only-of-type {\n",
              "        vertical-align: middle;\n",
              "    }\n",
              "\n",
              "    .dataframe tbody tr th {\n",
              "        vertical-align: top;\n",
              "    }\n",
              "\n",
              "    .dataframe thead th {\n",
              "        text-align: right;\n",
              "    }\n",
              "</style>\n",
              "<table border=\"1\" class=\"dataframe\">\n",
              "  <thead>\n",
              "    <tr style=\"text-align: right;\">\n",
              "      <th></th>\n",
              "      <th>Node 1</th>\n",
              "      <th>Node 2</th>\n",
              "    </tr>\n",
              "  </thead>\n",
              "  <tbody>\n",
              "    <tr>\n",
              "      <th>2</th>\n",
              "      <td>2</td>\n",
              "      <td>326</td>\n",
              "    </tr>\n",
              "    <tr>\n",
              "      <th>9</th>\n",
              "      <td>3</td>\n",
              "      <td>323</td>\n",
              "    </tr>\n",
              "    <tr>\n",
              "      <th>16</th>\n",
              "      <td>7</td>\n",
              "      <td>347</td>\n",
              "    </tr>\n",
              "    <tr>\n",
              "      <th>22</th>\n",
              "      <td>10</td>\n",
              "      <td>323</td>\n",
              "    </tr>\n",
              "    <tr>\n",
              "      <th>40</th>\n",
              "      <td>13</td>\n",
              "      <td>342</td>\n",
              "    </tr>\n",
              "  </tbody>\n",
              "</table>\n",
              "</div>"
            ],
            "text/plain": [
              "    Node 1  Node 2\n",
              "2        2     326\n",
              "9        3     323\n",
              "16       7     347\n",
              "22      10     323\n",
              "40      13     342"
            ]
          },
          "metadata": {
            "tags": []
          },
          "execution_count": 18
        }
      ]
    },
    {
      "cell_type": "markdown",
      "metadata": {
        "id": "5BCz861iUTMp"
      },
      "source": [
        "Create a graph ‘G_new’ with dataframe ‘df3’ consisting of node pairs assumed to be existing at previous point of time\n"
      ]
    },
    {
      "cell_type": "code",
      "metadata": {
        "id": "EBFDPdc-UVhe",
        "outputId": "5f36f576-5bbe-4584-cbcc-f5e362cd3c27",
        "colab": {
          "base_uri": "https://localhost:8080/",
          "height": 102
        }
      },
      "source": [
        "G_new = nx.from_pandas_edgelist(df3, \"Node 1\", \"Node 2\", \n",
        "                                create_using=nx.Graph())\n",
        "\n",
        "print(nx.info(G_new))"
      ],
      "execution_count": null,
      "outputs": [
        {
          "output_type": "stream",
          "text": [
            "Name: \n",
            "Type: Graph\n",
            "Number of nodes: 1295\n",
            "Number of edges: 1292\n",
            "Average degree:   1.9954\n"
          ],
          "name": "stdout"
        }
      ]
    },
    {
      "cell_type": "markdown",
      "metadata": {
        "id": "NoT7506HUUvh"
      },
      "source": [
        "## Model Building"
      ]
    },
    {
      "cell_type": "markdown",
      "metadata": {
        "id": "0VrpRwfHUh1M"
      },
      "source": [
        "Use Node2Vec for generating features"
      ]
    },
    {
      "cell_type": "code",
      "metadata": {
        "id": "5i1MsDicUhNj",
        "outputId": "844d9f94-3194-4d6b-acef-53adb1965903",
        "colab": {
          "base_uri": "https://localhost:8080/",
          "height": 292
        }
      },
      "source": [
        "!pip install node2vec"
      ],
      "execution_count": null,
      "outputs": [
        {
          "output_type": "stream",
          "text": [
            "Requirement already satisfied: node2vec in /usr/local/lib/python3.6/dist-packages (0.3.3)\n",
            "Requirement already satisfied: gensim in /usr/local/lib/python3.6/dist-packages (from node2vec) (3.6.0)\n",
            "Requirement already satisfied: numpy in /usr/local/lib/python3.6/dist-packages (from node2vec) (1.18.5)\n",
            "Requirement already satisfied: joblib>=0.13.2 in /usr/local/lib/python3.6/dist-packages (from node2vec) (0.16.0)\n",
            "Requirement already satisfied: tqdm in /usr/local/lib/python3.6/dist-packages (from node2vec) (4.41.1)\n",
            "Requirement already satisfied: networkx in /usr/local/lib/python3.6/dist-packages (from node2vec) (2.5)\n",
            "Requirement already satisfied: smart-open>=1.2.1 in /usr/local/lib/python3.6/dist-packages (from gensim->node2vec) (2.2.0)\n",
            "Requirement already satisfied: scipy>=0.18.1 in /usr/local/lib/python3.6/dist-packages (from gensim->node2vec) (1.4.1)\n",
            "Requirement already satisfied: six>=1.5.0 in /usr/local/lib/python3.6/dist-packages (from gensim->node2vec) (1.15.0)\n",
            "Requirement already satisfied: decorator>=4.3.0 in /usr/local/lib/python3.6/dist-packages (from networkx->node2vec) (4.4.2)\n",
            "Requirement already satisfied: requests in /usr/local/lib/python3.6/dist-packages (from smart-open>=1.2.1->gensim->node2vec) (2.23.0)\n",
            "Requirement already satisfied: chardet<4,>=3.0.2 in /usr/local/lib/python3.6/dist-packages (from requests->smart-open>=1.2.1->gensim->node2vec) (3.0.4)\n",
            "Requirement already satisfied: idna<3,>=2.5 in /usr/local/lib/python3.6/dist-packages (from requests->smart-open>=1.2.1->gensim->node2vec) (2.10)\n",
            "Requirement already satisfied: urllib3!=1.25.0,!=1.25.1,<1.26,>=1.21.1 in /usr/local/lib/python3.6/dist-packages (from requests->smart-open>=1.2.1->gensim->node2vec) (1.24.3)\n",
            "Requirement already satisfied: certifi>=2017.4.17 in /usr/local/lib/python3.6/dist-packages (from requests->smart-open>=1.2.1->gensim->node2vec) (2020.6.20)\n"
          ],
          "name": "stdout"
        }
      ]
    },
    {
      "cell_type": "markdown",
      "metadata": {
        "id": "y-3toGNDbYT-"
      },
      "source": [
        "Create Node2Vec model with features of the nodes in graph 'G_new'"
      ]
    },
    {
      "cell_type": "code",
      "metadata": {
        "id": "QjwVrSg5UrVy",
        "outputId": "4fe33b9c-23d1-4b9a-f6ac-6ad0bd685315",
        "colab": {
          "base_uri": "https://localhost:8080/",
          "height": 51
        }
      },
      "source": [
        "from node2vec import Node2Vec\n",
        "\n",
        "# Generating walks\n",
        "node2vec = Node2Vec(G_new, dimensions=100, walk_length=16, num_walks=50)\n",
        "\n",
        "# training the node2vec model\n",
        "n2v_model = node2vec.fit(window=7, min_count=1)"
      ],
      "execution_count": null,
      "outputs": [
        {
          "output_type": "stream",
          "text": [
            "Computing transition probabilities: 100%|██████████| 1295/1295 [00:00<00:00, 7261.95it/s]\n",
            "Generating walks (CPU: 1): 100%|██████████| 50/50 [00:41<00:00,  1.20it/s]\n"
          ],
          "name": "stderr"
        }
      ]
    },
    {
      "cell_type": "markdown",
      "metadata": {
        "id": "-Epxa5JYUurB"
      },
      "source": [
        "Generate edge/node pair features using node2vec model"
      ]
    },
    {
      "cell_type": "code",
      "metadata": {
        "id": "oKCYMYmaUwti",
        "outputId": "08a8ebf4-17c6-4331-c079-05860258472d",
        "colab": {
          "base_uri": "https://localhost:8080/",
          "height": 71
        }
      },
      "source": [
        "#adding up the features of the each node of a node pair 'df1' to generate the features of an edge/node pair\n",
        "#storing all the features in a list\n",
        "\n",
        "edge_features = [(n2v_model[str(i)]+n2v_model[str(j)]) \n",
        "for i,j in zip(df1['Node 1'], df1['Node 2'])]"
      ],
      "execution_count": null,
      "outputs": [
        {
          "output_type": "stream",
          "text": [
            "/usr/local/lib/python3.6/dist-packages/ipykernel_launcher.py:4: DeprecationWarning: Call to deprecated `__getitem__` (Method will be removed in 4.0.0, use self.wv.__getitem__() instead).\n",
            "  after removing the cwd from sys.path.\n"
          ],
          "name": "stderr"
        }
      ]
    },
    {
      "cell_type": "markdown",
      "metadata": {
        "id": "Xv5NqfpLUyJp"
      },
      "source": [
        "Import necessary libraries to create the ML model\n"
      ]
    },
    {
      "cell_type": "code",
      "metadata": {
        "id": "PhzP9OUMU2mB"
      },
      "source": [
        "from sklearn.ensemble import RandomForestClassifier\n",
        "from sklearn.ensemble import GradientBoostingClassifier\n",
        "from sklearn.neural_network import MLPClassifier\n",
        "from sklearn.model_selection import train_test_split\n",
        "from sklearn.model_selection import GridSearchCV\n",
        "from sklearn.metrics import accuracy_score, precision_score, recall_score\n",
        "from sklearn.metrics import f1_score, auc, roc_curve, roc_auc_score,confusion_matrix\n",
        "\n",
        "#features    \n",
        "X = np.array(edge_features)    \n",
        "\n",
        "#target\n",
        "y = df1['Connection']"
      ],
      "execution_count": null,
      "outputs": []
    },
    {
      "cell_type": "markdown",
      "metadata": {
        "id": "HfInYnuzUzsh"
      },
      "source": [
        "Split X and y into training and test data."
      ]
    },
    {
      "cell_type": "code",
      "metadata": {
        "id": "R12v8yqvU47p"
      },
      "source": [
        "X_train, X_test, y_train, y_test = train_test_split(X, y, random_state = 0)"
      ],
      "execution_count": null,
      "outputs": []
    },
    {
      "cell_type": "markdown",
      "metadata": {
        "id": "S5VKRxunU6VK"
      },
      "source": [
        "# GridSearchCV\n",
        "Apply GridSearchCV on different ML classifiers to find the best model along with its best parameters"
      ]
    },
    {
      "cell_type": "markdown",
      "metadata": {
        "id": "nJc6rwRKVAZK"
      },
      "source": [
        "### Random Forest"
      ]
    },
    {
      "cell_type": "code",
      "metadata": {
        "id": "Kwd8TWKrU8tp",
        "outputId": "ab1a0e24-9941-48c2-ac75-61093a4904ec",
        "colab": {
          "base_uri": "https://localhost:8080/",
          "height": 102
        }
      },
      "source": [
        "#classifier\n",
        "clf1 = RandomForestClassifier()\n",
        "\n",
        "# parameters\n",
        "param = {'n_estimators' : [10,50,100], 'max_depth' : [5,10,15]}\n",
        "\n",
        "# model\n",
        "grid_clf_acc1 = GridSearchCV(clf1, param_grid = param)\n",
        "\n",
        "# train the model\n",
        "grid_clf_acc1.fit(X_train, y_train)\n",
        "\n",
        "print('Grid best parameter (max. accuracy): ', grid_clf_acc1.best_params_)\n",
        "print('Grid best score (accuracy): ', grid_clf_acc1.best_score_)\n",
        "\n",
        "# alternative metric to optimize over grid parameters: AUC\n",
        "grid_clf_auc1 = GridSearchCV(clf1, param_grid = param, scoring = 'roc_auc')\n",
        "grid_clf_auc1.fit(X_train, y_train)\n",
        "predict_proba = grid_clf_auc1.predict_proba(X_test)[:,1]\n",
        "\n",
        "print('Test set AUC: ', roc_auc_score(y_test, predict_proba))\n",
        "print('Grid best parameter (max. AUC): ', grid_clf_auc1.best_params_)\n",
        "print('Grid best score (AUC): ', grid_clf_auc1.best_score_)"
      ],
      "execution_count": null,
      "outputs": [
        {
          "output_type": "stream",
          "text": [
            "Grid best parameter (max. accuracy):  {'max_depth': 15, 'n_estimators': 100}\n",
            "Grid best score (accuracy):  0.8959887616426038\n",
            "Test set AUC:  0.9576894016807131\n",
            "Grid best parameter (max. AUC):  {'max_depth': 15, 'n_estimators': 100}\n",
            "Grid best score (AUC):  0.9557946887229466\n"
          ],
          "name": "stdout"
        }
      ]
    },
    {
      "cell_type": "markdown",
      "metadata": {
        "id": "zhXG95ENVDwD"
      },
      "source": [
        "### Gradient Boost"
      ]
    },
    {
      "cell_type": "code",
      "metadata": {
        "id": "Azq69uqWVFZX",
        "outputId": "87cd7bbf-e49b-4721-be11-07b65302aa2f",
        "colab": {
          "base_uri": "https://localhost:8080/",
          "height": 102
        }
      },
      "source": [
        "# classifier\n",
        "clf2 = GradientBoostingClassifier()\n",
        "\n",
        "# parameters\n",
        "param = {'learning_rate' : [.05,.1]}\n",
        "\n",
        "# model\n",
        "grid_clf_acc2 = GridSearchCV(clf2, param_grid = param)\n",
        "\n",
        "# train the model\n",
        "grid_clf_acc2.fit(X_train, y_train)\n",
        "\n",
        "print('Grid best parameter (max. accuracy): ', grid_clf_acc2.best_params_)\n",
        "print('Grid best score (accuracy): ', grid_clf_acc2.best_score_)\n",
        "\n",
        "# alternative metric to optimize over grid parameters: AUC\n",
        "grid_clf_auc2 = GridSearchCV(clf2, param_grid = param, scoring = 'roc_auc')\n",
        "grid_clf_auc2.fit(X_train, y_train)\n",
        "predict_proba = grid_clf_auc2.predict_proba(X_test)[:,1]\n",
        "\n",
        "print('Test set AUC: ', roc_auc_score(y_test, predict_proba))\n",
        "print('Grid best parameter (max. AUC): ', grid_clf_auc2.best_params_)\n",
        "print('Grid best score (AUC): ', grid_clf_auc2.best_score_)"
      ],
      "execution_count": null,
      "outputs": [
        {
          "output_type": "stream",
          "text": [
            "Grid best parameter (max. accuracy):  {'learning_rate': 0.1}\n",
            "Grid best score (accuracy):  0.8519738661485189\n",
            "Test set AUC:  0.8918467910170673\n",
            "Grid best parameter (max. AUC):  {'learning_rate': 0.1}\n",
            "Grid best score (AUC):  0.8931222841629047\n"
          ],
          "name": "stdout"
        }
      ]
    },
    {
      "cell_type": "markdown",
      "metadata": {
        "id": "NfamVDE2VHRZ"
      },
      "source": [
        "## MLP Classifier (A Neural Network Classifier)"
      ]
    },
    {
      "cell_type": "code",
      "metadata": {
        "id": "LYoT3y_hVKyC",
        "outputId": "c700598d-d658-4b8d-a908-db2c026839a6",
        "colab": {
          "base_uri": "https://localhost:8080/",
          "height": 102
        }
      },
      "source": [
        "# classifier\n",
        "clf3 = MLPClassifier(max_iter=1000)\n",
        "\n",
        "# scaling training and test sets\n",
        "from sklearn.preprocessing import MinMaxScaler\n",
        "scaler = MinMaxScaler()\n",
        "X_train_scaled = scaler.fit_transform(X_train)\n",
        "X_test_scaled = scaler.transform(X_test)\n",
        "\n",
        "# parameters\n",
        "param = {'hidden_layer_sizes' : [10,100,[10,10]], 'activation' : ['tanh','relu'], 'solver' : ['adam','lbfgs']}\n",
        "\n",
        "# model\n",
        "grid_clf_acc3 = GridSearchCV(clf3, param_grid = param)\n",
        "\n",
        "# train the model\n",
        "grid_clf_acc3.fit(X_train_scaled, y_train)\n",
        "\n",
        "print('Grid best parameter (max. accuracy): ', grid_clf_acc3.best_params_)\n",
        "print('Grid best score (accuracy): ', grid_clf_acc3.best_score_)\n",
        "\n",
        "# alternative metric to optimize over grid parameters: AUC\n",
        "grid_clf_auc3 = GridSearchCV(clf3, param_grid = param, scoring = 'roc_auc')\n",
        "grid_clf_auc3.fit(X_train_scaled, y_train)\n",
        "predict_proba = grid_clf_auc3.predict_proba(X_test_scaled)[:,1]\n",
        "\n",
        "print('Test set AUC: ', roc_auc_score(y_test, predict_proba))\n",
        "print('Grid best parameter (max. AUC): ', grid_clf_auc3.best_params_)\n",
        "print('Grid best score (AUC): ', grid_clf_auc3.best_score_)"
      ],
      "execution_count": null,
      "outputs": [
        {
          "output_type": "stream",
          "text": [
            "Grid best parameter (max. accuracy):  {'activation': 'tanh', 'hidden_layer_sizes': 100, 'solver': 'lbfgs'}\n",
            "Grid best score (accuracy):  0.9021071068084228\n",
            "Test set AUC:  0.956993136659119\n",
            "Grid best parameter (max. AUC):  {'activation': 'relu', 'hidden_layer_sizes': 100, 'solver': 'adam'}\n",
            "Grid best score (AUC):  0.9512847728843005\n"
          ],
          "name": "stdout"
        }
      ]
    },
    {
      "cell_type": "markdown",
      "metadata": {
        "id": "V3dx-T_tVJIw"
      },
      "source": [
        "#Choosing Best Model \n",
        "MLP Classifier with scoring ‘roc_auc’\n"
      ]
    },
    {
      "cell_type": "code",
      "metadata": {
        "id": "o09H2XvnVNjN",
        "outputId": "7fb8822b-dcb6-4b9a-8592-4bae254403bf",
        "colab": {
          "base_uri": "https://localhost:8080/",
          "height": 34
        }
      },
      "source": [
        "# MLP Classifier with scoring ‘roc_auc’, grid_clf_auc3, \n",
        "# gives the best accuracy hence we choose this as our final model\n",
        "\n",
        "# get predictions of our test data\n",
        "pred = grid_clf_auc3.predict(X_test_scaled)\n",
        "\n",
        "pred[:5]"
      ],
      "execution_count": null,
      "outputs": [
        {
          "output_type": "execute_result",
          "data": {
            "text/plain": [
              "array([0, 0, 0, 0, 1])"
            ]
          },
          "metadata": {
            "tags": []
          },
          "execution_count": 28
        }
      ]
    },
    {
      "cell_type": "markdown",
      "metadata": {
        "id": "x2XY3D_3fGMq"
      },
      "source": [
        "##Accuracy Score"
      ]
    },
    {
      "cell_type": "code",
      "metadata": {
        "id": "EG6h_qlyfFih",
        "outputId": "0c6fe759-a2f3-44de-a6a6-04169d7d25d2",
        "colab": {
          "base_uri": "https://localhost:8080/",
          "height": 34
        }
      },
      "source": [
        "accuracy_score(pred,y_test)"
      ],
      "execution_count": null,
      "outputs": [
        {
          "output_type": "execute_result",
          "data": {
            "text/plain": [
              "0.9049050632911393"
            ]
          },
          "metadata": {
            "tags": []
          },
          "execution_count": 29
        }
      ]
    },
    {
      "cell_type": "markdown",
      "metadata": {
        "id": "C88GJqflVPLC"
      },
      "source": [
        "##Confusion Matrix "
      ]
    },
    {
      "cell_type": "code",
      "metadata": {
        "id": "x3VWudT4FJ6l"
      },
      "source": [
        ""
      ],
      "execution_count": null,
      "outputs": []
    },
    {
      "cell_type": "code",
      "metadata": {
        "id": "HUxDl9UlVQVp",
        "outputId": "9137b762-efb8-43b5-b500-ea683b2c6d1f",
        "colab": {
          "base_uri": "https://localhost:8080/",
          "height": 51
        }
      },
      "source": [
        "confusion_matrix(pred,y_test)"
      ],
      "execution_count": null,
      "outputs": [
        {
          "output_type": "execute_result",
          "data": {
            "text/plain": [
              "array([[7851,  617],\n",
              "       [ 585, 3587]])"
            ]
          },
          "metadata": {
            "tags": []
          },
          "execution_count": 30
        }
      ]
    },
    {
      "cell_type": "markdown",
      "metadata": {
        "id": "ZahXTjtQVRtI"
      },
      "source": [
        "## Roc_auc score\n",
        "Find the ROC_AUC score and plot the ROC Curve"
      ]
    },
    {
      "cell_type": "code",
      "metadata": {
        "id": "R1x5EgPNVTSh",
        "outputId": "adf75b32-1edc-4a5a-ec90-5d7f5bf0df80",
        "colab": {
          "base_uri": "https://localhost:8080/",
          "height": 327
        }
      },
      "source": [
        "predict_proba = grid_clf_auc3.predict_proba(X_test_scaled)[:,1]\n",
        "\n",
        "false_positive_rate,true_positive_rate,_ = roc_curve(y_test, predict_proba)\n",
        "roc_auc_score = auc(false_positive_rate,true_positive_rate)\n",
        "\n",
        "#plotting\n",
        "plt.plot(false_positive_rate,true_positive_rate)\n",
        "plt.title(f'ROC Curve \\n ROC AUC Score : {roc_auc_score}')\n",
        "plt.xlabel('False Positive Rate')\n",
        "plt.ylabel('True Positive Rate')"
      ],
      "execution_count": null,
      "outputs": [
        {
          "output_type": "execute_result",
          "data": {
            "text/plain": [
              "Text(0, 0.5, 'True Positive Rate')"
            ]
          },
          "metadata": {
            "tags": []
          },
          "execution_count": 31
        },
        {
          "output_type": "display_data",
          "data": {
            "image/png": "[encoded data removed]",
            "text/plain": [
              "<Figure size 432x288 with 1 Axes>"
            ]
          },
          "metadata": {
            "tags": [],
            "needs_background": "light"
          }
        }
      ]
    },
    {
      "cell_type": "markdown",
      "metadata": {
        "id": "aaDK2dJpSm0v"
      },
      "source": [
        "#Inference"
      ]
    },
    {
      "cell_type": "code",
      "metadata": {
        "id": "oMTBVDwoWsle",
        "outputId": "14b8cba9-ac13-4c36-848b-2370f83056b6",
        "colab": {
          "base_uri": "https://localhost:8080/",
          "height": 204
        }
      },
      "source": [
        "df1.head()"
      ],
      "execution_count": null,
      "outputs": [
        {
          "output_type": "execute_result",
          "data": {
            "text/html": [
              "<div>\n",
              "<style scoped>\n",
              "    .dataframe tbody tr th:only-of-type {\n",
              "        vertical-align: middle;\n",
              "    }\n",
              "\n",
              "    .dataframe tbody tr th {\n",
              "        vertical-align: top;\n",
              "    }\n",
              "\n",
              "    .dataframe thead th {\n",
              "        text-align: right;\n",
              "    }\n",
              "</style>\n",
              "<table border=\"1\" class=\"dataframe\">\n",
              "  <thead>\n",
              "    <tr style=\"text-align: right;\">\n",
              "      <th></th>\n",
              "      <th>Node 1</th>\n",
              "      <th>Node 2</th>\n",
              "      <th>Connection</th>\n",
              "    </tr>\n",
              "  </thead>\n",
              "  <tbody>\n",
              "    <tr>\n",
              "      <th>0</th>\n",
              "      <td>2</td>\n",
              "      <td>7</td>\n",
              "      <td>0</td>\n",
              "    </tr>\n",
              "    <tr>\n",
              "      <th>1</th>\n",
              "      <td>2</td>\n",
              "      <td>25</td>\n",
              "      <td>0</td>\n",
              "    </tr>\n",
              "    <tr>\n",
              "      <th>2</th>\n",
              "      <td>2</td>\n",
              "      <td>55</td>\n",
              "      <td>0</td>\n",
              "    </tr>\n",
              "    <tr>\n",
              "      <th>3</th>\n",
              "      <td>2</td>\n",
              "      <td>119</td>\n",
              "      <td>0</td>\n",
              "    </tr>\n",
              "    <tr>\n",
              "      <th>4</th>\n",
              "      <td>2</td>\n",
              "      <td>146</td>\n",
              "      <td>0</td>\n",
              "    </tr>\n",
              "  </tbody>\n",
              "</table>\n",
              "</div>"
            ],
            "text/plain": [
              "   Node 1  Node 2  Connection\n",
              "0       2       7           0\n",
              "1       2      25           0\n",
              "2       2      55           0\n",
              "3       2     119           0\n",
              "4       2     146           0"
            ]
          },
          "metadata": {
            "tags": []
          },
          "execution_count": 32
        }
      ]
    },
    {
      "cell_type": "code",
      "metadata": {
        "id": "8WQE7yenYwpq",
        "outputId": "7cf60a8c-e077-4902-a934-9e988978bb2f",
        "colab": {
          "base_uri": "https://localhost:8080/",
          "height": 323
        }
      },
      "source": [
        "# from the above dataframe let's choose the nodes 2 and 146\n",
        "# node pair (2,146) is at index 4, hence it's features\n",
        "\n",
        "print(f' ({df1.iloc[4,0]},{df1.iloc[4,1]}) node pair features : {X[4]}')\n",
        "\n",
        "# its position in X_train\n",
        "print(f'Index of ({df1.iloc[4,0]},{df1.iloc[4,1]}) node pair in X_train : {np.where(X_train == X[4])[0][1]}')"
      ],
      "execution_count": null,
      "outputs": [
        {
          "output_type": "stream",
          "text": [
            " (2,146) node pair features : [-0.31974825  0.4454072  -0.56286263 -0.4206472   0.12306979  0.42737707\n",
            "  1.5730785   0.3797015  -0.7960592   0.0442833  -0.1508733  -0.25716537\n",
            "  0.04225296  0.3748195   0.72062814  0.61161005  0.04155549 -0.18565042\n",
            " -0.6799878   0.8175075   0.43788424  0.47371352  0.4174336  -0.17008828\n",
            "  0.24093041  0.2562692  -0.44319597  0.61125034  0.8676627  -0.81734127\n",
            "  1.0023162   0.11690486  0.08506802 -0.74477404 -0.29988915  0.13117796\n",
            " -0.5888928  -0.12368403  0.8263618   0.26192126 -0.04717672  0.5067867\n",
            " -0.11612257  0.5371035   0.8556694   0.34915298 -1.1659813   0.11113331\n",
            "  1.1618596  -0.58864754  0.02775763 -0.09294853  0.21387857 -0.45490015\n",
            "  0.6147701  -1.2038474   0.19944236  0.20778471  0.55409163  0.11599523\n",
            " -0.06365734 -0.16141433 -0.42084694 -0.33672625 -0.19359915  1.205441\n",
            "  0.582776    0.5858595  -1.600161    0.9918225  -1.0026368  -0.73573154\n",
            " -0.1321021  -0.24353579  0.08773118  0.00299299 -0.01118031 -0.00592104\n",
            "  1.1947114   0.37539566 -0.325149   -0.7259486  -0.43222308 -0.03181955\n",
            " -0.22876015  0.41228735  0.35364497 -0.2546345  -0.36920884  0.73104167\n",
            "  0.15854877 -1.1460583  -1.0756361   0.56758964  0.71457046  0.12070061\n",
            "  0.22560452 -0.5014059  -1.2519822   0.0224141 ]\n",
            "Index of (2,146) node pair in X_train : 7206\n"
          ],
          "name": "stdout"
        }
      ]
    },
    {
      "cell_type": "code",
      "metadata": {
        "id": "9-m5LOrBSmLR",
        "outputId": "8bac6a70-3ecf-410e-878a-6e5a4cc3ffe1",
        "colab": {
          "base_uri": "https://localhost:8080/",
          "height": 34
        }
      },
      "source": [
        "# probability of the two nodes forming a link or edge\n",
        "# we will be using the values from X_train_scaled since \n",
        "# we have used the scaled version to train our model\n",
        "predict_proba = grid_clf_auc3.predict_proba(X_train_scaled[np.where(X_train == X[4])[0][1]].reshape(1,-1))[:,1]\n",
        "\n",
        "print(f'Probability of nodes {df1.iloc[4,0]} and {df1.iloc[4,1]} to form a link is : {float(predict_proba)*100 : .2f}%')"
      ],
      "execution_count": null,
      "outputs": [
        {
          "output_type": "stream",
          "text": [
            "Probability of nodes 2 and 146 to form a link is :  9.09%\n"
          ],
          "name": "stdout"
        }
      ]
    },
    {
      "cell_type": "markdown",
      "metadata": {
        "id": "3di20Ux4VXb6"
      },
      "source": [
        "Saving dataset for part-3"
      ]
    },
    {
      "cell_type": "code",
      "metadata": {
        "id": "xAXR1uKiVrZW"
      },
      "source": [
        "df1.to_csv('/content/Facebook-Social-Network-Analysis-Project-master/df1.csv, index=False')"
      ],
      "execution_count": null,
      "outputs": []
    }
  ]
}